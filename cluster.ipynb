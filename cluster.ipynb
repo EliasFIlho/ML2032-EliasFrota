{
  "nbformat": 4,
  "nbformat_minor": 0,
  "metadata": {
    "colab": {
      "provenance": []
    },
    "kernelspec": {
      "name": "python3",
      "display_name": "Python 3"
    },
    "language_info": {
      "name": "python"
    }
  },
  "cells": [
    {
      "cell_type": "code",
      "execution_count": 31,
      "metadata": {
        "id": "3gp2U1p69adP"
      },
      "outputs": [],
      "source": [
        "import folium\n",
        "import numpy as np\n",
        "import pandas as pd\n",
        "from sklearn.cluster import DBSCAN\n",
        "from sklearn.metrics.pairwise import haversine_distances\n",
        "from sklearn.preprocessing import StandardScaler\n",
        "from sklearn.cluster import KMeans\n",
        "from sklearn.cluster import AgglomerativeClustering\n",
        "from sklearn.metrics import silhouette_score"
      ]
    },
    {
      "cell_type": "code",
      "source": [
        "# Carregar o dataset de crimes\n",
        "df = pd.read_csv('crime_dataset.csv')  # Substitua 'crime_dataset.csv' pelo nome do arquivo do seu dataset"
      ],
      "metadata": {
        "id": "ySQu0QSG9fmR"
      },
      "execution_count": null,
      "outputs": []
    },
    {
      "cell_type": "code",
      "source": [
        "X = df[['LATITUDE', 'LONGITUDE']]"
      ],
      "metadata": {
        "id": "Guco8aYf95xV"
      },
      "execution_count": 6,
      "outputs": []
    },
    {
      "cell_type": "code",
      "source": [
        "scaler = StandardScaler()\n",
        "X_scaled = scaler.fit_transform(X)"
      ],
      "metadata": {
        "id": "y0nYhigv9_VT"
      },
      "execution_count": 7,
      "outputs": []
    },
    {
      "cell_type": "code",
      "source": [
        "eps = np.percentile(haversine_distances(X_scaled, X_scaled).flatten(), 5)  # Valor de eps baseado no primeiro quartil\n",
        "min_samples = 10\n",
        "dbscan = DBSCAN(eps=eps, min_samples=min_samples, metric='precomputed')\n",
        "dbscan.fit(haversine_distances(X_scaled, X_scaled))"
      ],
      "metadata": {
        "colab": {
          "base_uri": "https://localhost:8080/",
          "height": 74
        },
        "id": "FmEcBxCV-Dl9",
        "outputId": "dcad141c-8e5f-418e-be54-7accf38c653b"
      },
      "execution_count": 8,
      "outputs": [
        {
          "output_type": "execute_result",
          "data": {
            "text/plain": [
              "DBSCAN(eps=0.2882987797823635, metric='precomputed', min_samples=10)"
            ],
            "text/html": [
              "<style>#sk-container-id-1 {color: black;background-color: white;}#sk-container-id-1 pre{padding: 0;}#sk-container-id-1 div.sk-toggleable {background-color: white;}#sk-container-id-1 label.sk-toggleable__label {cursor: pointer;display: block;width: 100%;margin-bottom: 0;padding: 0.3em;box-sizing: border-box;text-align: center;}#sk-container-id-1 label.sk-toggleable__label-arrow:before {content: \"▸\";float: left;margin-right: 0.25em;color: #696969;}#sk-container-id-1 label.sk-toggleable__label-arrow:hover:before {color: black;}#sk-container-id-1 div.sk-estimator:hover label.sk-toggleable__label-arrow:before {color: black;}#sk-container-id-1 div.sk-toggleable__content {max-height: 0;max-width: 0;overflow: hidden;text-align: left;background-color: #f0f8ff;}#sk-container-id-1 div.sk-toggleable__content pre {margin: 0.2em;color: black;border-radius: 0.25em;background-color: #f0f8ff;}#sk-container-id-1 input.sk-toggleable__control:checked~div.sk-toggleable__content {max-height: 200px;max-width: 100%;overflow: auto;}#sk-container-id-1 input.sk-toggleable__control:checked~label.sk-toggleable__label-arrow:before {content: \"▾\";}#sk-container-id-1 div.sk-estimator input.sk-toggleable__control:checked~label.sk-toggleable__label {background-color: #d4ebff;}#sk-container-id-1 div.sk-label input.sk-toggleable__control:checked~label.sk-toggleable__label {background-color: #d4ebff;}#sk-container-id-1 input.sk-hidden--visually {border: 0;clip: rect(1px 1px 1px 1px);clip: rect(1px, 1px, 1px, 1px);height: 1px;margin: -1px;overflow: hidden;padding: 0;position: absolute;width: 1px;}#sk-container-id-1 div.sk-estimator {font-family: monospace;background-color: #f0f8ff;border: 1px dotted black;border-radius: 0.25em;box-sizing: border-box;margin-bottom: 0.5em;}#sk-container-id-1 div.sk-estimator:hover {background-color: #d4ebff;}#sk-container-id-1 div.sk-parallel-item::after {content: \"\";width: 100%;border-bottom: 1px solid gray;flex-grow: 1;}#sk-container-id-1 div.sk-label:hover label.sk-toggleable__label {background-color: #d4ebff;}#sk-container-id-1 div.sk-serial::before {content: \"\";position: absolute;border-left: 1px solid gray;box-sizing: border-box;top: 0;bottom: 0;left: 50%;z-index: 0;}#sk-container-id-1 div.sk-serial {display: flex;flex-direction: column;align-items: center;background-color: white;padding-right: 0.2em;padding-left: 0.2em;position: relative;}#sk-container-id-1 div.sk-item {position: relative;z-index: 1;}#sk-container-id-1 div.sk-parallel {display: flex;align-items: stretch;justify-content: center;background-color: white;position: relative;}#sk-container-id-1 div.sk-item::before, #sk-container-id-1 div.sk-parallel-item::before {content: \"\";position: absolute;border-left: 1px solid gray;box-sizing: border-box;top: 0;bottom: 0;left: 50%;z-index: -1;}#sk-container-id-1 div.sk-parallel-item {display: flex;flex-direction: column;z-index: 1;position: relative;background-color: white;}#sk-container-id-1 div.sk-parallel-item:first-child::after {align-self: flex-end;width: 50%;}#sk-container-id-1 div.sk-parallel-item:last-child::after {align-self: flex-start;width: 50%;}#sk-container-id-1 div.sk-parallel-item:only-child::after {width: 0;}#sk-container-id-1 div.sk-dashed-wrapped {border: 1px dashed gray;margin: 0 0.4em 0.5em 0.4em;box-sizing: border-box;padding-bottom: 0.4em;background-color: white;}#sk-container-id-1 div.sk-label label {font-family: monospace;font-weight: bold;display: inline-block;line-height: 1.2em;}#sk-container-id-1 div.sk-label-container {text-align: center;}#sk-container-id-1 div.sk-container {/* jupyter's `normalize.less` sets `[hidden] { display: none; }` but bootstrap.min.css set `[hidden] { display: none !important; }` so we also need the `!important` here to be able to override the default hidden behavior on the sphinx rendered scikit-learn.org. See: https://github.com/scikit-learn/scikit-learn/issues/21755 */display: inline-block !important;position: relative;}#sk-container-id-1 div.sk-text-repr-fallback {display: none;}</style><div id=\"sk-container-id-1\" class=\"sk-top-container\"><div class=\"sk-text-repr-fallback\"><pre>DBSCAN(eps=0.2882987797823635, metric=&#x27;precomputed&#x27;, min_samples=10)</pre><b>In a Jupyter environment, please rerun this cell to show the HTML representation or trust the notebook. <br />On GitHub, the HTML representation is unable to render, please try loading this page with nbviewer.org.</b></div><div class=\"sk-container\" hidden><div class=\"sk-item\"><div class=\"sk-estimator sk-toggleable\"><input class=\"sk-toggleable__control sk-hidden--visually\" id=\"sk-estimator-id-1\" type=\"checkbox\" checked><label for=\"sk-estimator-id-1\" class=\"sk-toggleable__label sk-toggleable__label-arrow\">DBSCAN</label><div class=\"sk-toggleable__content\"><pre>DBSCAN(eps=0.2882987797823635, metric=&#x27;precomputed&#x27;, min_samples=10)</pre></div></div></div></div></div>"
            ]
          },
          "metadata": {},
          "execution_count": 8
        }
      ]
    },
    {
      "cell_type": "code",
      "source": [
        "labels = dbscan.labels_\n",
        "map_crimes = folium.Map(location=[X['LATITUDE'].mean(), X['LONGITUDE'].mean()], zoom_start=13)"
      ],
      "metadata": {
        "id": "CWWVJOM0-E0A"
      },
      "execution_count": 11,
      "outputs": []
    },
    {
      "cell_type": "code",
      "source": [
        "for label in np.unique(labels):\n",
        "    if label == -1:  # Rótulo para os pontos considerados como ruído\n",
        "        color = 'gray'\n",
        "    else:\n",
        "        color = '#{:02x}{:02x}{:02x}'.format(np.random.randint(256), np.random.randint(256), np.random.randint(256))\n",
        "    indices = np.where(labels == label)[0]\n",
        "    for index in indices:\n",
        "        folium.CircleMarker([X.iloc[index]['LATITUDE'], X.iloc[index]['LONGITUDE']], radius=2, color=color, fill=True,\n",
        "                            fill_color=color, fill_opacity=0.6).add_to(map_crimes)"
      ],
      "metadata": {
        "id": "qKngEnPc-R_S"
      },
      "execution_count": 17,
      "outputs": []
    },
    {
      "cell_type": "code",
      "source": [
        "#Não consegui abrir a pagina aqui mas ele gerou um HTML que pode ser usado no navegador\n",
        "map_crimes.save('crime_clusters_dbscan.html')"
      ],
      "metadata": {
        "id": "-57sJo-e-1w-"
      },
      "execution_count": 18,
      "outputs": []
    },
    {
      "cell_type": "code",
      "source": [
        "\n",
        "num_clusters = len(np.unique(labels)) - 1  # Ignorar o rótulo de ruído (-1)\n",
        "kmeans = KMeans(n_clusters=num_clusters,n_init=10)\n",
        "kmeans.fit(X_scaled)\n",
        "labels_kmeans = kmeans.labels_"
      ],
      "metadata": {
        "id": "KyocnZ7x_L4a"
      },
      "execution_count": 25,
      "outputs": []
    },
    {
      "cell_type": "code",
      "source": [
        "# Plotar os pontos usando Folium\n",
        "map_kmeans = folium.Map(location=[X['LATITUDE'].mean(), X['LONGITUDE'].mean()], zoom_start=13)"
      ],
      "metadata": {
        "id": "I-HrgMW3AFrb"
      },
      "execution_count": 27,
      "outputs": []
    },
    {
      "cell_type": "code",
      "source": [
        "# Definir cores aleatórias para os clusters do K-Means\n",
        "cluster_colors_kmeans = ['#{:06x}'.format(np.random.randint(256**3)) for _ in range(num_clusters)]\n",
        "\n",
        "for label in np.unique(labels_kmeans):\n",
        "    color = cluster_colors_kmeans[label]\n",
        "    indices = np.where(labels_kmeans == label)[0]\n",
        "    for index in indices:\n",
        "        folium.CircleMarker([X.iloc[index]['LATITUDE'], X.iloc[index]['LONGITUDE']], radius=2, color=color, fill=True,\n",
        "                            fill_color=color, fill_opacity=0.6).add_to(map_kmeans)\n",
        "\n",
        "# Salvar o mapa como arquivo HTML\n",
        "map_kmeans.save('crime_clusters_kmeans.html')"
      ],
      "metadata": {
        "id": "Vx-MclsfBBiR"
      },
      "execution_count": 35,
      "outputs": []
    },
    {
      "cell_type": "code",
      "source": [
        "agglomerative = AgglomerativeClustering(n_clusters=num_clusters)\n",
        "agglomerative.fit(X_scaled)\n",
        "labels_agg = agglomerative.labels_"
      ],
      "metadata": {
        "id": "sPgeaThYB4lu"
      },
      "execution_count": 36,
      "outputs": []
    },
    {
      "cell_type": "code",
      "source": [
        "silhouette_kmeans = silhouette_score(X_scaled, labels_kmeans)\n",
        "silhouette_agg = silhouette_score(X_scaled, labels_agg)\n",
        "\n",
        "print(\"Silhouette Score - K-Means:\", silhouette_kmeans)\n",
        "print(\"Silhouette Score - Clusterização Hierárquica:\", silhouette_agg)"
      ],
      "metadata": {
        "colab": {
          "base_uri": "https://localhost:8080/"
        },
        "id": "6hM_D2zZBnu0",
        "outputId": "ed36c33b-cc28-477e-a542-db91a7d52b15"
      },
      "execution_count": 37,
      "outputs": [
        {
          "output_type": "stream",
          "name": "stdout",
          "text": [
            "Silhouette Score - K-Means: 0.41425009106071053\n",
            "Silhouette Score - Clusterização Hierárquica: 0.40300135142613747\n"
          ]
        }
      ]
    }
  ]
}