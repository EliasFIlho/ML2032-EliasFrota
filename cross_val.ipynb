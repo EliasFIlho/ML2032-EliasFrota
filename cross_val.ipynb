{
  "nbformat": 4,
  "nbformat_minor": 0,
  "metadata": {
    "colab": {
      "provenance": []
    },
    "kernelspec": {
      "name": "python3",
      "display_name": "Python 3"
    },
    "language_info": {
      "name": "python"
    }
  },
  "cells": [
    {
      "cell_type": "code",
      "execution_count": 9,
      "metadata": {
        "id": "wYYahFbnSwfI"
      },
      "outputs": [],
      "source": [
        "import pandas as pd\n",
        "import numpy as np\n",
        "from sklearn import model_selection\n",
        "from sklearn.metrics import accuracy_score\n",
        "from sklearn.model_selection import train_test_split\n",
        "from sklearn.datasets import load_breast_cancer\n",
        "from sklearn.neighbors import KNeighborsClassifier\n",
        "from sklearn.model_selection import KFold\n",
        "from sklearn import tree"
      ]
    },
    {
      "cell_type": "code",
      "source": [
        "X, y = load_breast_cancer(return_X_y=True)\n",
        "X_train,X_test,y_train,y_test=train_test_split(X,y,test_size=0.2,stratify = y)\n",
        "acc = []\n",
        "fold_avg = []\n",
        "Knumbers = [1, 3, 5, 11, 21, 31]"
      ],
      "metadata": {
        "id": "srRAp5CPTCBk"
      },
      "execution_count": 10,
      "outputs": []
    },
    {
      "cell_type": "code",
      "source": [
        "kf = KFold(n_splits=5,random_state=36,shuffle=True)\n",
        "\n"
      ],
      "metadata": {
        "id": "RtHRqGtRY08m"
      },
      "execution_count": 11,
      "outputs": []
    },
    {
      "cell_type": "code",
      "source": [
        "for h in Knumbers:\n",
        "  for i,(train_index, test_index) in enumerate(kf.split(X_train)):\n",
        "    \n",
        "    clf= KNeighborsClassifier(n_neighbors=h)\n",
        "    clf.fit(X_train[train_index],y_train[train_index])\n",
        "\n",
        "    validation_pred=clf.predict(X_train[test_index])\n",
        "    acc.append(accuracy_score(y_train[test_index],validation_pred))\n",
        "  fold_avg.append(np.average(acc))\n",
        "  acc = []"
      ],
      "metadata": {
        "id": "mPWuqE7IU9c6"
      },
      "execution_count": 12,
      "outputs": []
    },
    {
      "cell_type": "code",
      "source": [
        "fold_avg"
      ],
      "metadata": {
        "colab": {
          "base_uri": "https://localhost:8080/"
        },
        "id": "d42WfcqferIL",
        "outputId": "2cbe4296-ac57-479b-8ded-152fb6714a00"
      },
      "execution_count": 13,
      "outputs": [
        {
          "output_type": "execute_result",
          "data": {
            "text/plain": [
              "[0.9098901098901099,\n",
              " 0.9208791208791208,\n",
              " 0.923076923076923,\n",
              " 0.9252747252747252,\n",
              " 0.9208791208791208,\n",
              " 0.9120879120879121]"
            ]
          },
          "metadata": {},
          "execution_count": 13
        }
      ]
    },
    {
      "cell_type": "code",
      "source": [
        "criterion = ['gini' , 'entropy', 'log_loss']\n",
        "acc_dt = []\n",
        "fold_acc = []\n",
        "for model_str in criterion:\n",
        "  for j in range(10,100,10):\n",
        "    for i,(train_index, test_index) in enumerate(kf.split(X_train)):\n",
        "      DT = tree.DecisionTreeClassifier(criterion=model_str,max_depth=j)\n",
        "      DT.fit(X_train[train_index],y_train[train_index])\n",
        "      validation_pred=DT.predict(X_train[test_index])\n",
        "      acc_dt.append(accuracy_score(y_train[test_index],validation_pred))\n",
        "    fold_acc.append(np.average(acc_dt))\n",
        "    acc_dt = []\n",
        "      \n",
        "fold_acc\n"
      ],
      "metadata": {
        "colab": {
          "base_uri": "https://localhost:8080/"
        },
        "id": "0s1mfDqbrkrJ",
        "outputId": "7e48e23b-3e93-4bdf-c2c2-322c250a9eaa"
      },
      "execution_count": 19,
      "outputs": [
        {
          "output_type": "execute_result",
          "data": {
            "text/plain": [
              "[0.9164835164835164,\n",
              " 0.9186813186813186,\n",
              " 0.9142857142857143,\n",
              " 0.9120879120879121,\n",
              " 0.9186813186813186,\n",
              " 0.9120879120879121,\n",
              " 0.9076923076923077,\n",
              " 0.9208791208791208,\n",
              " 0.9164835164835164,\n",
              " 0.9428571428571428,\n",
              " 0.9362637362637363,\n",
              " 0.9274725274725275,\n",
              " 0.9384615384615385,\n",
              " 0.9274725274725275,\n",
              " 0.9318681318681319,\n",
              " 0.9296703296703297,\n",
              " 0.9406593406593406,\n",
              " 0.9340659340659341,\n",
              " 0.9296703296703297,\n",
              " 0.9340659340659341,\n",
              " 0.9296703296703297,\n",
              " 0.9318681318681319,\n",
              " 0.9296703296703297,\n",
              " 0.9296703296703297,\n",
              " 0.9340659340659341,\n",
              " 0.9318681318681319,\n",
              " 0.9362637362637363]"
            ]
          },
          "metadata": {},
          "execution_count": 19
        }
      ]
    }
  ]
}